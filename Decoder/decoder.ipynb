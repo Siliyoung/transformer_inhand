{
 "cells": [
  {
   "cell_type": "code",
   "execution_count": 1,
   "metadata": {},
   "outputs": [],
   "source": [
    "import torch\n",
    "from torch import nn\n",
    "import torch.nn.functional as F\n",
    "import math"
   ]
  },
  {
   "cell_type": "code",
   "execution_count": 2,
   "metadata": {},
   "outputs": [],
   "source": [
    "class DecoderLayer(nn.Module):\n",
    "    def _init_(self, d_model, ffn_hidden, n_head, drop_prob):\n",
    "        super(DecoderLayer, self)._init_()\n",
    "        self.attention1 = MultiHeadAttention(d_model, n_head)\n",
    "        self.norm1 = LayerNorm(d_model)\n",
    "        self.dropout1 = nn.Dropout(drop_prob)\n",
    "        self.cross_attention = MultiHeadAttention(d_model, n_head)\n",
    "        self.norm2 = LayerNorm(d_model)\n",
    "        self.dropout2= nn.Dropout(drop_prob)\n",
    "        self.ffn = PositionwiseFeedForward(d_model, ffn_hidden, drop_prob)\n",
    "        self.norm3 = LayerNorm(d_model)\n",
    "        self.dropout3 = nn.Dropout(drop_prob)\n",
    "\n",
    "    def forward(self, dec, enc, t_mask, s_mask):\n",
    "        _x = dec\n",
    "        x = self.attention1(dec, dec, dec, t_mask)\n",
    "        x = self.dropout1(x)\n",
    "        x = self.norm1(x + _x)\n",
    "        _x = x\n",
    "\n",
    "        x = self.cross_attention(x, enc, enc, s_mask)\n",
    "        x = self.dropout2(x)\n",
    "        x = self.norm2(x + _x)\n",
    "        _x = x\n",
    "\n",
    "        x = self.ffn(x)\n",
    "        x = self.dropout3(x)\n",
    "        x = self.norm3(x + _x)\n",
    "        return x\n",
    "\n",
    "\n",
    "\n"
   ]
  },
  {
   "cell_type": "code",
   "execution_count": 4,
   "metadata": {},
   "outputs": [],
   "source": [
    "class Decoder(nn.Module):\n",
    "    def _init_(self, dec_voc_size, max_len, d_model, ffn_hidden, n_heads, n_layers, drop_prob, device):\n",
    "        super(Decoder)._init_()\n",
    "        self.embedding = TransformerEmbedding(\n",
    "            dec_voc_size, d_model, max_len, drop_prob, device\n",
    "        )\n",
    "\n",
    "        self.layers = nn.ModuleList(\n",
    "            [\n",
    "                DecoderLayer(d_model, ffn_hidden, n_heads, drop_prob)\n",
    "                for _ in range(n_layers)\n",
    "            ]\n",
    "        )\n",
    "\n",
    "        self.fc = nn.Linear(d_model, dec_voc_size)\n",
    "\n",
    "    def forward(self, dec, enc, t_mask, s_mask):\n",
    "        dec = self.embedding(enc)\n",
    "        for layer in self.layers:\n",
    "            dec = layer(dec, t_mask, s_mask)\n",
    "        dec = self.fc(dec)\n",
    "        return dec"
   ]
  },
  {
   "cell_type": "code",
   "execution_count": null,
   "metadata": {},
   "outputs": [],
   "source": []
  }
 ],
 "metadata": {
  "kernelspec": {
   "display_name": ".venv",
   "language": "python",
   "name": "python3"
  },
  "language_info": {
   "codemirror_mode": {
    "name": "ipython",
    "version": 3
   },
   "file_extension": ".py",
   "mimetype": "text/x-python",
   "name": "python",
   "nbconvert_exporter": "python",
   "pygments_lexer": "ipython3",
   "version": "3.8.20"
  }
 },
 "nbformat": 4,
 "nbformat_minor": 2
}
